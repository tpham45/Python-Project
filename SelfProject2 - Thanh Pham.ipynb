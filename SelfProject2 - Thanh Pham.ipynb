{
 "cells": [
  {
   "cell_type": "code",
   "execution_count": null,
   "id": "146c7e4c",
   "metadata": {},
   "outputs": [
    {
     "name": "stdout",
     "output_type": "stream",
     "text": [
      "Do you want to start on calculation? (y/n): y\n",
      "Enter your room type: (For example: Living room, Kitchet, etc..)kitchen\n",
      "Enter your length in feets: 4\n",
      "Enter your Width in feets: 5\n",
      "Total area of:      kitchen                            20.00 square feet\n"
     ]
    }
   ],
   "source": [
    "# function to calculate the area of a room (length times width)\n",
    "def sqrFootage (length, width):\n",
    "    return length *width\n",
    "\n",
    "#function to display descriptions and the area\n",
    "def display (descriptions,sqrFootage ):\n",
    "    print('{:<20}{:<20s}{:>20.2f} square feet'.format( 'Total area of:',descriptions, sqrFootage))\n",
    "    \n",
    "#condition for while loop\n",
    "totalArea=0\n",
    "totalPrintOut = 0\n",
    "\n",
    "#Input extra for asking them about continuing with the code\n",
    "userInput = input (\"Do you want to start on calculation? (y/n): \").lower()\n",
    "\n",
    "#while loop about if they not put y or n with turn out invalid\n",
    "while userInput != \"y\"and userInput != \"n\":\n",
    "    print (\"Invalid answer!, Try again with y or n\")\n",
    "    userInput = input (\"Do you want to start on calculation? (y/n): \").lower()\n",
    "\n",
    "    \n",
    "#while loop for \"n\" - no answer\n",
    "while userInput == \"n\": \n",
    "    print (\"Exit successfully!\")\n",
    "    break\n",
    "    \n",
    " \n",
    "    \n",
    "    \n",
    "#while loop for finding descriptions, length, width and other things from two functions sqrFootage an display\n",
    "while userInput == \"y\":\n",
    "    descriptions= input (\"Enter your room type: (For example: Living room, Kitchet, etc..)\")\n",
    "    length = float (input(\"Enter your length in feets: \"))\n",
    "    \n",
    "    width = float (input (\"Enter your Width in feets: \"))\n",
    "    \n",
    "    #if else to avoid negative number\n",
    "    if width < 0 or length <0:\n",
    "        print(\"Error! Try again with the positive number\")\n",
    "    else:\n",
    "        totalArea += sqrFootage (length,width)\n",
    "        display(descriptions, sqrFootage(length, width))\n",
    "    \n",
    "        \n",
    "        #input condition for asking details do they want caculate more room area or just only having total\n",
    "        conditionInput = input (\"Do you want to continue to add more measurement? (y/n):\").lower()\n",
    "        while conditionInput != \"y\" and conditionInput != \"n\":\n",
    "            print (\"Invalid input! Enter valid answer y or n\")\n",
    "            conditionInput = input (\"Do you want to continue to add more measurement? (y/n):\").lower()\n",
    "                #you can use break here but it allows one time to be failed\n",
    "                #best way is dont break the loop here so we can fail some multiple times\n",
    "                \n",
    "            #condtion to find out total\n",
    "            if conditionInput ==\"n\":\n",
    "                \n",
    "                #print total area\n",
    "                print ('Total area of the house: {:>16} square feet ' . format(totalArea))\n",
    "                break\n",
    "    \n",
    "#for avoid invalid insert   \n"
   ]
  },
  {
   "cell_type": "markdown",
   "id": "a4d7aed3",
   "metadata": {},
   "source": [
    "##### "
   ]
  },
  {
   "cell_type": "code",
   "execution_count": null,
   "id": "2cc6ec50",
   "metadata": {},
   "outputs": [],
   "source": []
  },
  {
   "cell_type": "code",
   "execution_count": null,
   "id": "a2c50b2d",
   "metadata": {},
   "outputs": [],
   "source": []
  },
  {
   "cell_type": "code",
   "execution_count": null,
   "id": "687b2a39",
   "metadata": {},
   "outputs": [],
   "source": []
  },
  {
   "cell_type": "code",
   "execution_count": null,
   "id": "a4650d3c",
   "metadata": {},
   "outputs": [],
   "source": []
  }
 ],
 "metadata": {
  "kernelspec": {
   "display_name": "Python 3 (ipykernel)",
   "language": "python",
   "name": "python3"
  },
  "language_info": {
   "codemirror_mode": {
    "name": "ipython",
    "version": 3
   },
   "file_extension": ".py",
   "mimetype": "text/x-python",
   "name": "python",
   "nbconvert_exporter": "python",
   "pygments_lexer": "ipython3",
   "version": "3.9.12"
  }
 },
 "nbformat": 4,
 "nbformat_minor": 5
}
